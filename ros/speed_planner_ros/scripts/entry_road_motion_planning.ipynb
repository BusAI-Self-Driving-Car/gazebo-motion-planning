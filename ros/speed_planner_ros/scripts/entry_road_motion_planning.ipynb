{
 "cells": [
  {
   "cell_type": "code",
   "execution_count": 1,
   "metadata": {},
   "outputs": [],
   "source": [
    "import matplotlib.pyplot as plt\n",
    "%matplotlib notebook"
   ]
  },
  {
   "cell_type": "markdown",
   "metadata": {},
   "source": [
    "## draw entry road scenario"
   ]
  },
  {
   "cell_type": "code",
   "execution_count": 2,
   "metadata": {},
   "outputs": [
    {
     "data": {
      "image/png": "[encoded data removed]",
      "text/plain": [
       "<Figure size 432x288 with 1 Axes>"
      ]
     },
     "metadata": {
      "needs_background": "light"
     },
     "output_type": "display_data"
    }
   ],
   "source": [
    "# draw road network\n",
    "# roadSegs structure: {road_segment1:[[line1_x, line1_y],...],...}\n",
    "roadSegs = {'road_segment1': [[-10, 10.5], [40, 10.5]],\n",
    "            'road_segment2': [[-10, 7], [40, 7]],\n",
    "            'road_segment3': [[-10, 3.5], [40, 3.5]],\n",
    "            'road_segment4': [[-10, 0], [10, 0]],\n",
    "            'road_segment5': [[17, 0], [40, 0]],\n",
    "            'road_segment6': [[10, 0], [10, -10]],\n",
    "            'road_segment7': [[13.5, 0], [13.5,-10]],\n",
    "            'road_segment8': [[17, 0], [17, -10]]}\n",
    "\n",
    "figure, ax = plt.subplots(1, 1)\n",
    "x_min = -10\n",
    "x_max = 40\n",
    "y_min = -20\n",
    "y_max = 30\n",
    "ax.set_xlim(x_min, x_max)\n",
    "ax.set_ylim(y_min, y_max)\n",
    "\n",
    "\n",
    "for feature_id, lines in roadSegs.items():\n",
    "    line_x = []\n",
    "    line_y = []\n",
    "    for line in lines:\n",
    "        line_x.append(line[0])\n",
    "        line_y.append(line[1])\n",
    "    ax.plot(line_x, line_y, color='green', linestyle='dashed')\n",
    "\n",
    "plt.grid(True)\n",
    "plt.show()"
   ]
  },
  {
   "cell_type": "code",
   "execution_count": 3,
   "metadata": {},
   "outputs": [
    {
     "data": {
      "image/png": "[encoded data removed]",
      "text/plain": [
       "<Figure size 432x288 with 1 Axes>"
      ]
     },
     "metadata": {
      "needs_background": "light"
     },
     "output_type": "display_data"
    }
   ],
   "source": [
    "# draw car footprints\n",
    "initial_pos = [30, 1.75]\n",
    "vel = 2.5 # meter/sec\n",
    "dt = 1.0 # sec\n",
    "N = 15\n",
    "\n",
    "car_footprints = []\n",
    "\n",
    "car_width = 2.11\n",
    "car_length = 5.93\n",
    "\n",
    "for i in range(N):\n",
    "    x_i = initial_pos[0] - vel * dt * i\n",
    "    y_i = initial_pos[1]\n",
    "    car_footprints.append([x_i, y_i])\n",
    "\n",
    "figure, ax = plt.subplots(1, 1)\n",
    "x_min = -10\n",
    "x_max = 40\n",
    "y_min = -20\n",
    "y_max = 30\n",
    "ax.set_xlim(x_min, x_max)\n",
    "ax.set_ylim(y_min, y_max)\n",
    "\n",
    "\n",
    "for feature_id, lines in roadSegs.items():\n",
    "    line_x = []\n",
    "    line_y = []\n",
    "    for line in lines:\n",
    "        line_x.append(line[0])\n",
    "        line_y.append(line[1])\n",
    "    ax.plot(line_x, line_y, color='green', linestyle='dashed')\n",
    "\n",
    "footprint_x = []\n",
    "footprint_y = []\n",
    "for car_footprint in car_footprints:\n",
    "    footprint_x.append(car_footprint[0])\n",
    "    footprint_y.append(car_footprint[1])\n",
    "\n",
    "plt.plot(footprint_x, footprint_y, color='deepskyblue', marker='o')\n",
    "plt.grid(True)\n",
    "plt.show()"
   ]
  },
  {
   "cell_type": "code",
   "execution_count": 4,
   "metadata": {},
   "outputs": [
    {
     "data": {
      "image/png": "[encoded data removed]",
      "text/plain": [
       "<Figure size 432x288 with 1 Axes>"
      ]
     },
     "metadata": {
      "needs_background": "light"
     },
     "output_type": "display_data"
    }
   ],
   "source": [
    "# draw car footprints\n",
    "from scipy.interpolate import UnivariateSpline\n",
    "from numpy import linspace\n",
    "\n",
    "ego_initial_pos = [11.75, -10]\n",
    "ego_turning_pos = [11.75, 1.75]\n",
    "ego_target_pos = [0, 1.75]\n",
    "\n",
    "ego_car_footprints = []\n",
    "\n",
    "ego_car_width = 2.11\n",
    "ego_car_length = 5.93\n",
    "\n",
    "M = 10\n",
    "\n",
    "x1 = linspace(ego_target_pos[0], ego_turning_pos[0], M//2)\n",
    "y1 = linspace(ego_target_pos[1], ego_turning_pos[1], M//2)\n",
    "\n",
    "x2 = linspace(ego_turning_pos[0], ego_initial_pos[0], M//2)\n",
    "y2 = linspace(ego_turning_pos[1], ego_initial_pos[1], M//2)\n",
    "\n",
    "for i in range(M//2-1):\n",
    "    ego_car_footprints.append([x1[i], y1[i]])\n",
    "    \n",
    "ego_car_footprints.append([(x1[-2]+x2[1])/2, (y1[-2]+y2[1])/2])\n",
    "\n",
    "for i in range(1, M//2):\n",
    "    ego_car_footprints.append([x2[i], y2[i]])\n",
    "ego_car_footprints.reverse()\n",
    "\n",
    "figure, ax = plt.subplots(1, 1)\n",
    "x_min = -10\n",
    "x_max = 40\n",
    "y_min = -20\n",
    "y_max = 30\n",
    "ax.set_xlim(x_min, x_max)\n",
    "ax.set_ylim(y_min, y_max)\n",
    "\n",
    "for feature_id, lines in roadSegs.items():\n",
    "    line_x = []\n",
    "    line_y = []\n",
    "    for line in lines:\n",
    "        line_x.append(line[0])\n",
    "        line_y.append(line[1])\n",
    "    ax.plot(line_x, line_y, color='green', linestyle='dashed')\n",
    "\n",
    "ego_footprint_x = []\n",
    "ego_footprint_y = []\n",
    "for ego_car_footprint in ego_car_footprints:\n",
    "    ego_footprint_x.append(ego_car_footprint[0])\n",
    "    ego_footprint_y.append(ego_car_footprint[1])\n",
    "\n",
    "    plt.plot(footprint_x, footprint_y, color='deepskyblue', marker='o')\n",
    "plt.plot(ego_footprint_x, ego_footprint_y, color='cyan', marker='*')\n",
    "plt.grid(True)\n",
    "plt.show()"
   ]
  },
  {
   "cell_type": "code",
   "execution_count": 5,
   "metadata": {},
   "outputs": [
    {
     "data": {
      "image/png": "[encoded data removed]",
      "text/plain": [
       "<Figure size 432x288 with 1 Axes>"
      ]
     },
     "metadata": {
      "needs_background": "light"
     },
     "output_type": "display_data"
    }
   ],
   "source": [
    "import numpy as np\n",
    "\n",
    "def displayBinaryMatrix(matrix):\n",
    "    figure, ax = plt.subplots(1, 1)\n",
    "    plt.title('ST Map Matrix')\n",
    "    plt.grid(True, alpha=0.5)\n",
    "    plt.xlabel('time axis --->')\n",
    "    plt.ylabel('s axis --->')\n",
    "    \n",
    "    x_dim = len(matrix)\n",
    "    y_dim = len(matrix[0])\n",
    "    \n",
    "    ax.set_xticks(np.arange(0, x_dim, 1))\n",
    "    ax.set_yticks(np.arange(0, y_dim, 1)) \n",
    "    \n",
    "    for i in range(len(matrix)):\n",
    "        for j in range(len(matrix[0])):\n",
    "            if matrix[i][j]:\n",
    "                plt.plot(i, j, 'ro')\n",
    "            else:\n",
    "                plt.plot(i, j, 'bo')\n",
    "\n",
    "# test display binary matrix\n",
    "matrix = [[1, 0, 0], [0, 0, 1]]\n",
    "displayBinaryMatrix(matrix)"
   ]
  },
  {
   "cell_type": "code",
   "execution_count": 6,
   "metadata": {},
   "outputs": [
    {
     "data": {
      "image/png": "[encoded data removed]",
      "text/plain": [
       "<Figure size 432x288 with 1 Axes>"
      ]
     },
     "metadata": {
      "needs_background": "light"
     },
     "output_type": "display_data"
    }
   ],
   "source": [
    "import math\n",
    "\n",
    "def distance(pos1, pos2):\n",
    "    return math.sqrt( ((pos1[0]-pos2[0])**2)+((pos1[1]-pos2[1])**2) )\n",
    "\n",
    "def CollisionCheck(car1, car2):\n",
    "    return distance(car1, car2) < 2.5\n",
    "\n",
    "def STMapMatrix(s_poses, t_poses):\n",
    "    st_matrix = []\n",
    "    s_size = len(s_poses)\n",
    "    t_size = len(t_poses)\n",
    "    for t_pose in t_poses:\n",
    "        tmp = []\n",
    "        for s_pose in s_poses:\n",
    "            tmp.append(CollisionCheck(t_pose, s_pose))\n",
    "        st_matrix.append(tmp)\n",
    "    return st_matrix\n",
    "    \n",
    "st_map_m = STMapMatrix(ego_car_footprints, car_footprints)\n",
    "displayBinaryMatrix(st_map_m)"
   ]
  },
  {
   "cell_type": "code",
   "execution_count": 41,
   "metadata": {},
   "outputs": [
    {
     "name": "stdout",
     "output_type": "stream",
     "text": [
      "[[0, 0], [1, 3], [2, 6], [3, 8]]\n"
     ]
    }
   ],
   "source": [
    "# velocity planning\n",
    "def CostFunc(cur_vel, nxt_vel, cur_s, tar_s):\n",
    "    weight1 = 5.0\n",
    "    weight2 = 1.0\n",
    "    return weight1 * (cur_vel - nxt_vel) ** 2 + weight2 * (cur_s - tar_s) ** 2\n",
    "\n",
    "def SearchPlan(st_matrix, i, j, cur_vel, cur_cost, min_cost, cur_plan, best_plan):\n",
    "    \n",
    "    if j == len(s_vec)-1:\n",
    "        if cur_cost < min_cost:\n",
    "            min_cost = cur_cost\n",
    "            best_plan = cur_plan[:]\n",
    "        return min_cost, best_plan\n",
    "\n",
    "    if i == len(t_vec)-1:\n",
    "        return min_cost, best_plan\n",
    "    \n",
    "    if i == 0:\n",
    "        cur_plan = [[0, 0]]\n",
    "        cost_cost = 0.0\n",
    "    \n",
    "    n_search = 4\n",
    "    for k in range(n_search):\n",
    "        if i+1 < len(t_vec) and j+k < len(s_vec) and st_matrix[i+1][j+k] is False: # viable\n",
    "            cur_plan.append([i+1, j+k])\n",
    "            nxt_vel = (s_vec[j+k] - s_vec[j]) / dt\n",
    "            cur_cost += CostFunc(cur_vel, nxt_vel, s_vec[j], s_vec[-1])\n",
    "            min_cost, best_plan = SearchPlan(st_matrix, i+1, j+k, nxt_vel, cur_cost, min_cost, cur_plan, best_plan)\n",
    "            cur_cost -= CostFunc(cur_vel, nxt_vel, s_vec[j], s_vec[-1])\n",
    "            cur_plan.pop() # backtracking\n",
    "            \n",
    "    return min_cost, best_plan\n",
    "\n",
    "def VelocityPlanner(st_matrix):\n",
    "    cur_cost = 0.0\n",
    "    min_cost = float(\"inf\")\n",
    "    cur_plan = []\n",
    "    best_plan = []\n",
    "    min_cost, best_plan = SearchPlan(st_matrix, 0, 0, init_vel, cur_cost, min_cost, cur_plan, best_plan)\n",
    "    return min_cost, best_plan\n",
    "\n",
    "# test search algorithm\n",
    "init_vel = 2.0 # meters/sec\n",
    "ds = 1.0\n",
    "dt = 1.0 # sec\n",
    "s_vec = [1.0, 2.0, 3.0, 4.0, 5.0, 6.0, 7.0, 8.0, 9.0]\n",
    "t_vec = [0.0, 1.0, 2.0, 3.0, 4.0, 5.0, 6.0, 7.0, 8.0, 9.0, 10.0, 11.0, 12.0, 13.0, 14.0]\n",
    "\n",
    "min_cost, best_plan = VelocityPlanner(st_map_m)\n",
    "print(best_plan)"
   ]
  },
  {
   "cell_type": "code",
   "execution_count": 42,
   "metadata": {},
   "outputs": [
    {
     "data": {
      "image/png": "[encoded data removed]",
      "text/plain": [
       "<Figure size 432x288 with 1 Axes>"
      ]
     },
     "metadata": {
      "needs_background": "light"
     },
     "output_type": "display_data"
    }
   ],
   "source": [
    "def displayVelocityPlan(matrix, plan):\n",
    "    figure, ax = plt.subplots(1, 1)\n",
    "    plt.title('ST Map Matrix')\n",
    "    plt.grid(True, alpha=0.5)\n",
    "    plt.xlabel('time axis --->')\n",
    "    plt.ylabel('s axis --->')\n",
    "    \n",
    "    x_dim = len(matrix)\n",
    "    y_dim = len(matrix[0])\n",
    "    \n",
    "    ax.set_xticks(np.arange(0, x_dim, 1))\n",
    "    ax.set_yticks(np.arange(0, y_dim, 1)) \n",
    "    \n",
    "    for i in range(len(matrix)):\n",
    "        for j in range(len(matrix[0])):\n",
    "            if matrix[i][j]:\n",
    "                plt.plot(i, j, 'ro')\n",
    "            else:\n",
    "                plt.plot(i, j, 'bo')\n",
    "                \n",
    "    plan_x = []\n",
    "    plan_y = []\n",
    "    for entry in plan:\n",
    "        plan_x.append(entry[0])\n",
    "        plan_y.append(entry[1])\n",
    "    plt.plot(plan_x, plan_y, color='purple')\n",
    "\n",
    "# test display\n",
    "displayVelocityPlan(st_map_m, best_plan)"
   ]
  },
  {
   "cell_type": "code",
   "execution_count": 43,
   "metadata": {},
   "outputs": [
    {
     "name": "stdout",
     "output_type": "stream",
     "text": [
      "[2.0, 3.0, 3.0, 3.0, 3.0, 3.0, 3.0, 2.0, 2.0]\n"
     ]
    }
   ],
   "source": [
    "# convert ot velocity list\n",
    "vel_list = [init_vel]\n",
    "for i in range(1, len(best_plan)):\n",
    "    pre = best_plan[i-1][1]\n",
    "    cur = best_plan[i][1]\n",
    "    n = cur - pre\n",
    "    for j in range(n):\n",
    "        vel_list.append((s_vec[cur]-s_vec[pre])/dt)\n",
    "    \n",
    "print(vel_list)"
   ]
  },
  {
   "cell_type": "code",
   "execution_count": null,
   "metadata": {},
   "outputs": [],
   "source": []
  }
 ],
 "metadata": {
  "kernelspec": {
   "display_name": "Python 3",
   "language": "python",
   "name": "python3"
  },
  "language_info": {
   "codemirror_mode": {
    "name": "ipython",
    "version": 3
   },
   "file_extension": ".py",
   "mimetype": "text/x-python",
   "name": "python",
   "nbconvert_exporter": "python",
   "pygments_lexer": "ipython3",
   "version": "3.7.0"
  }
 },
 "nbformat": 4,
 "nbformat_minor": 2
}
